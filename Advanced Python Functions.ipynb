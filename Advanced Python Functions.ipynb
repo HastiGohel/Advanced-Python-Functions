{
 "cells": [
  {
   "cell_type": "code",
   "execution_count": 12,
   "id": "fe58679e-72f0-47ac-b736-eb2be57ca98e",
   "metadata": {},
   "outputs": [
    {
     "name": "stdin",
     "output_type": "stream",
     "text": [
      "Enter Numbers : 1 2 3 4 5\n"
     ]
    },
    {
     "name": "stdout",
     "output_type": "stream",
     "text": [
      "[1, 8, 27, 64, 125]\n"
     ]
    }
   ],
   "source": [
    "# Q1 : Cube of Numbers\n",
    "\n",
    "nums = list(map(int,input(\"Enter Numbers :\").split()))\n",
    "cube = map(lambda x: x**3, nums)\n",
    "print(list(cube))"
   ]
  },
  {
   "cell_type": "code",
   "execution_count": 14,
   "id": "f6b339db-cc89-4008-a90a-e518be113fbb",
   "metadata": {},
   "outputs": [
    {
     "name": "stdout",
     "output_type": "stream",
     "text": [
      "['Apple', 'Apricot']\n"
     ]
    }
   ],
   "source": [
    "# Q2 : Filter Strings Starting with 'A'\n",
    "\n",
    "s1 = [\"Apple\", \"Banana\", \"Apricot\", \"Cherry\"]\n",
    "filtered_strings = list(filter(lambda s: s.startswith(\"A\"), s1))\n",
    "print(filtered_strings)\n"
   ]
  },
  {
   "cell_type": "code",
   "execution_count": 18,
   "id": "f8533e05-f02f-4564-8e92-b4decdd75c8f",
   "metadata": {},
   "outputs": [
    {
     "name": "stdout",
     "output_type": "stream",
     "text": [
      "[5, 5, 6]\n"
     ]
    }
   ],
   "source": [
    "# Q3 : Length of Strings\n",
    "strings = [\"hello\", \"world\", \"python\"]\n",
    "print(list(map(lambda s: len(s), strings)))"
   ]
  },
  {
   "cell_type": "code",
   "execution_count": 26,
   "id": "cb4c7bee-39da-48b0-bfc4-ac4b9a0241c3",
   "metadata": {},
   "outputs": [
    {
     "name": "stdout",
     "output_type": "stream",
     "text": [
      "['Christina']\n"
     ]
    }
   ],
   "source": [
    "# Q4: Filter out names with greater than 5 characters from a given list\n",
    "names = [\"John\", \"Alex\", \"Amy\", \"Christina\"]\n",
    "filtered_names = list(filter(lambda name: len(name) > 5, names))\n",
    "print(filtered_names)"
   ]
  },
  {
   "cell_type": "code",
   "execution_count": 32,
   "id": "2fe783cc-faf9-40c1-9b8c-4ffbd55c2cd4",
   "metadata": {},
   "outputs": [
    {
     "name": "stdout",
     "output_type": "stream",
     "text": [
      "[13, 15]\n"
     ]
    }
   ],
   "source": [
    "# Q5 :  Filter Odd Numbers Greater Than 10\n",
    "num = [5, 12, 13, 15, 22, 7]\n",
    "odd = list(filter(lambda x : x%2!=0 and x>10, num))\n",
    "print(odd)"
   ]
  },
  {
   "cell_type": "code",
   "execution_count": 34,
   "id": "b45f8aed-5727-45b7-a857-fb474b34a915",
   "metadata": {},
   "outputs": [
    {
     "name": "stdout",
     "output_type": "stream",
     "text": [
      "[15, 25, 35, 45]\n"
     ]
    }
   ],
   "source": [
    "# Q6 : Add 5 to Each Element\n",
    "num = [10, 20, 30, 40]\n",
    "print(list(map(lambda x : x+5, num)))"
   ]
  },
  {
   "cell_type": "code",
   "execution_count": 36,
   "id": "f9ca422e-adcc-4c17-a759-c8a0463deb43",
   "metadata": {},
   "outputs": [
    {
     "name": "stdout",
     "output_type": "stream",
     "text": [
      "['radar', 'level']\n"
     ]
    }
   ],
   "source": [
    "# Q7 : Filter Palindromic Strings\n",
    "words = [\"radar\", \"python\", \"level\", \"world\"]\n",
    "print(list(filter(lambda word: word == word[::-1], words)))"
   ]
  },
  {
   "cell_type": "code",
   "execution_count": 48,
   "id": "e3c3106a-1c33-437d-9edd-bbccfa46c9f6",
   "metadata": {},
   "outputs": [
    {
     "name": "stdout",
     "output_type": "stream",
     "text": [
      "[32, 77, 86, 212]\n"
     ]
    }
   ],
   "source": [
    "# Q8 : Convert Celsius to Fahrenheit\n",
    "c = [0, 25, 30, 100]\n",
    "f= list(map(lambda c : int(c * 9/5 + 32) ,c))\n",
    "print(f)"
   ]
  },
  {
   "cell_type": "code",
   "execution_count": 52,
   "id": "2f09eedc-b683-4bd4-b06d-40e050f73391",
   "metadata": {},
   "outputs": [
    {
     "name": "stdout",
     "output_type": "stream",
     "text": [
      "[2, 3, 5, 7]\n"
     ]
    }
   ],
   "source": [
    "# Q9 : Filter Prime Numbers\n",
    "\n",
    "def is_prime(n):\n",
    "    if n <= 1:\n",
    "        return False\n",
    "    for i in range(2, int(n**0.5) + 1):\n",
    "        if n % i == 0:\n",
    "            return False\n",
    "    return True\n",
    "\n",
    "num = [2, 3, 4, 5, 6, 7, 8, 9, 10]\n",
    "print(list(filter(lambda x : is_prime(x), num)))"
   ]
  },
  {
   "cell_type": "code",
   "execution_count": 56,
   "id": "729fb81f-d738-4867-b29a-02d4a2b81f4e",
   "metadata": {},
   "outputs": [
    {
     "name": "stdout",
     "output_type": "stream",
     "text": [
      "[4, 10, 18]\n"
     ]
    }
   ],
   "source": [
    "# Q10 : Calculate Product of List Elements\n",
    "\n",
    "l1= [1, 2, 3] \n",
    "l2 = [4, 5, 6]\n",
    "print(list(map(lambda x,y : x*y, l1,l2)))"
   ]
  },
  {
   "cell_type": "code",
   "execution_count": null,
   "id": "367deb73-8db4-4cf0-a9d6-783def4c1da4",
   "metadata": {},
   "outputs": [],
   "source": []
  }
 ],
 "metadata": {
  "kernelspec": {
   "display_name": "Python [conda env:base] *",
   "language": "python",
   "name": "conda-base-py"
  },
  "language_info": {
   "codemirror_mode": {
    "name": "ipython",
    "version": 3
   },
   "file_extension": ".py",
   "mimetype": "text/x-python",
   "name": "python",
   "nbconvert_exporter": "python",
   "pygments_lexer": "ipython3",
   "version": "3.12.7"
  }
 },
 "nbformat": 4,
 "nbformat_minor": 5
}
